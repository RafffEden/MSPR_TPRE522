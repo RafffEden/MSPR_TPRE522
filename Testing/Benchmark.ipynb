{
 "cells": [
  {
   "cell_type": "markdown",
   "metadata": {},
   "source": [
    "# Benchmark de différent classifier \n",
    "\n",
    "## SVM classifier\n",
    "\n",
    "Dans un premier temps, on va se servir d'un svm classifier et tester les performances"
   ]
  },
  {
   "cell_type": "code",
   "execution_count": 3,
   "metadata": {},
   "outputs": [
    {
     "name": "stdout",
     "output_type": "stream",
     "text": [
      "Requirement already satisfied: flask in c:\\users\\rafff\\appdata\\local\\programs\\python\\python312\\lib\\site-packages (from -r requirement.txt (line 1)) (3.0.3)\n",
      "Requirement already satisfied: pandas in c:\\users\\rafff\\appdata\\local\\programs\\python\\python312\\lib\\site-packages (from -r requirement.txt (line 2)) (2.1.4)\n",
      "Requirement already satisfied: utillc in c:\\users\\rafff\\appdata\\local\\programs\\python\\python312\\lib\\site-packages (from -r requirement.txt (line 3)) (0.10.32)\n",
      "Requirement already satisfied: python-dotenv in c:\\users\\rafff\\appdata\\local\\programs\\python\\python312\\lib\\site-packages (from -r requirement.txt (line 4)) (1.0.1)\n",
      "Requirement already satisfied: opencv-python in c:\\users\\rafff\\appdata\\local\\programs\\python\\python312\\lib\\site-packages (from -r requirement.txt (line 5)) (4.9.0.80)\n",
      "Requirement already satisfied: scikit-image in c:\\users\\rafff\\appdata\\local\\programs\\python\\python312\\lib\\site-packages (from -r requirement.txt (line 6)) (0.23.2)\n",
      "Requirement already satisfied: scikit-learn in c:\\users\\rafff\\appdata\\local\\programs\\python\\python312\\lib\\site-packages (from -r requirement.txt (line 7)) (1.3.2)\n",
      "Requirement already satisfied: Matplotlib in c:\\users\\rafff\\appdata\\local\\programs\\python\\python312\\lib\\site-packages (from -r requirement.txt (line 8)) (3.8.2)\n",
      "Requirement already satisfied: Werkzeug>=3.0.0 in c:\\users\\rafff\\appdata\\local\\programs\\python\\python312\\lib\\site-packages (from flask->-r requirement.txt (line 1)) (3.0.3)\n",
      "Requirement already satisfied: Jinja2>=3.1.2 in c:\\users\\rafff\\appdata\\local\\programs\\python\\python312\\lib\\site-packages (from flask->-r requirement.txt (line 1)) (3.1.4)\n",
      "Requirement already satisfied: itsdangerous>=2.1.2 in c:\\users\\rafff\\appdata\\local\\programs\\python\\python312\\lib\\site-packages (from flask->-r requirement.txt (line 1)) (2.2.0)\n",
      "Requirement already satisfied: click>=8.1.3 in c:\\users\\rafff\\appdata\\local\\programs\\python\\python312\\lib\\site-packages (from flask->-r requirement.txt (line 1)) (8.1.7)\n",
      "Requirement already satisfied: blinker>=1.6.2 in c:\\users\\rafff\\appdata\\local\\programs\\python\\python312\\lib\\site-packages (from flask->-r requirement.txt (line 1)) (1.8.2)\n",
      "Requirement already satisfied: numpy<2,>=1.26.0 in c:\\users\\rafff\\appdata\\local\\programs\\python\\python312\\lib\\site-packages (from pandas->-r requirement.txt (line 2)) (1.26.2)\n",
      "Requirement already satisfied: python-dateutil>=2.8.2 in c:\\users\\rafff\\appdata\\local\\programs\\python\\python312\\lib\\site-packages (from pandas->-r requirement.txt (line 2)) (2.8.2)\n",
      "Requirement already satisfied: pytz>=2020.1 in c:\\users\\rafff\\appdata\\local\\programs\\python\\python312\\lib\\site-packages (from pandas->-r requirement.txt (line 2)) (2023.3.post1)\n",
      "Requirement already satisfied: tzdata>=2022.1 in c:\\users\\rafff\\appdata\\local\\programs\\python\\python312\\lib\\site-packages (from pandas->-r requirement.txt (line 2)) (2023.3)\n",
      "Requirement already satisfied: ply in c:\\users\\rafff\\appdata\\local\\programs\\python\\python312\\lib\\site-packages (from utillc->-r requirement.txt (line 3)) (3.11)\n",
      "Requirement already satisfied: Pillow in c:\\users\\rafff\\appdata\\local\\programs\\python\\python312\\lib\\site-packages (from utillc->-r requirement.txt (line 3)) (10.1.0)\n",
      "Requirement already satisfied: datetime in c:\\users\\rafff\\appdata\\local\\programs\\python\\python312\\lib\\site-packages (from utillc->-r requirement.txt (line 3)) (5.5)\n",
      "Collecting argparse (from utillc->-r requirement.txt (line 3))\n",
      "  Downloading argparse-1.4.0-py2.py3-none-any.whl.metadata (2.8 kB)\n",
      "Requirement already satisfied: scipy>=1.9 in c:\\users\\rafff\\appdata\\local\\programs\\python\\python312\\lib\\site-packages (from scikit-image->-r requirement.txt (line 6)) (1.11.4)\n",
      "Requirement already satisfied: networkx>=2.8 in c:\\users\\rafff\\appdata\\local\\programs\\python\\python312\\lib\\site-packages (from scikit-image->-r requirement.txt (line 6)) (3.3)\n",
      "Requirement already satisfied: imageio>=2.33 in c:\\users\\rafff\\appdata\\local\\programs\\python\\python312\\lib\\site-packages (from scikit-image->-r requirement.txt (line 6)) (2.34.1)\n",
      "Requirement already satisfied: tifffile>=2022.8.12 in c:\\users\\rafff\\appdata\\local\\programs\\python\\python312\\lib\\site-packages (from scikit-image->-r requirement.txt (line 6)) (2024.5.22)\n",
      "Requirement already satisfied: packaging>=21 in c:\\users\\rafff\\appdata\\local\\programs\\python\\python312\\lib\\site-packages (from scikit-image->-r requirement.txt (line 6)) (23.2)\n",
      "Requirement already satisfied: lazy-loader>=0.4 in c:\\users\\rafff\\appdata\\local\\programs\\python\\python312\\lib\\site-packages (from scikit-image->-r requirement.txt (line 6)) (0.4)\n",
      "Requirement already satisfied: joblib>=1.1.1 in c:\\users\\rafff\\appdata\\local\\programs\\python\\python312\\lib\\site-packages (from scikit-learn->-r requirement.txt (line 7)) (1.3.2)\n",
      "Requirement already satisfied: threadpoolctl>=2.0.0 in c:\\users\\rafff\\appdata\\local\\programs\\python\\python312\\lib\\site-packages (from scikit-learn->-r requirement.txt (line 7)) (3.2.0)\n",
      "Requirement already satisfied: contourpy>=1.0.1 in c:\\users\\rafff\\appdata\\local\\programs\\python\\python312\\lib\\site-packages (from Matplotlib->-r requirement.txt (line 8)) (1.2.0)\n",
      "Requirement already satisfied: cycler>=0.10 in c:\\users\\rafff\\appdata\\local\\programs\\python\\python312\\lib\\site-packages (from Matplotlib->-r requirement.txt (line 8)) (0.12.1)\n",
      "Requirement already satisfied: fonttools>=4.22.0 in c:\\users\\rafff\\appdata\\local\\programs\\python\\python312\\lib\\site-packages (from Matplotlib->-r requirement.txt (line 8)) (4.46.0)\n",
      "Requirement already satisfied: kiwisolver>=1.3.1 in c:\\users\\rafff\\appdata\\local\\programs\\python\\python312\\lib\\site-packages (from Matplotlib->-r requirement.txt (line 8)) (1.4.5)\n",
      "Requirement already satisfied: pyparsing>=2.3.1 in c:\\users\\rafff\\appdata\\local\\programs\\python\\python312\\lib\\site-packages (from Matplotlib->-r requirement.txt (line 8)) (3.1.1)\n",
      "Requirement already satisfied: colorama in c:\\users\\rafff\\appdata\\local\\programs\\python\\python312\\lib\\site-packages (from click>=8.1.3->flask->-r requirement.txt (line 1)) (0.4.6)\n",
      "Requirement already satisfied: MarkupSafe>=2.0 in c:\\users\\rafff\\appdata\\local\\programs\\python\\python312\\lib\\site-packages (from Jinja2>=3.1.2->flask->-r requirement.txt (line 1)) (2.1.5)\n",
      "Requirement already satisfied: six>=1.5 in c:\\users\\rafff\\appdata\\local\\programs\\python\\python312\\lib\\site-packages (from python-dateutil>=2.8.2->pandas->-r requirement.txt (line 2)) (1.16.0)\n",
      "Requirement already satisfied: zope.interface in c:\\users\\rafff\\appdata\\local\\programs\\python\\python312\\lib\\site-packages (from datetime->utillc->-r requirement.txt (line 3)) (6.4.post2)\n",
      "Requirement already satisfied: setuptools in c:\\users\\rafff\\appdata\\local\\programs\\python\\python312\\lib\\site-packages (from zope.interface->datetime->utillc->-r requirement.txt (line 3)) (70.0.0)\n",
      "Downloading argparse-1.4.0-py2.py3-none-any.whl (23 kB)\n",
      "Installing collected packages: argparse\n",
      "Successfully installed argparse-1.4.0\n"
     ]
    },
    {
     "name": "stderr",
     "output_type": "stream",
     "text": [
      "\n",
      "[notice] A new release of pip is available: 23.3.2 -> 24.0\n",
      "[notice] To update, run: python.exe -m pip install --upgrade pip\n"
     ]
    }
   ],
   "source": [
    "!pip install --no-cache-dir -r requirement.txt"
   ]
  },
  {
   "cell_type": "code",
   "execution_count": 4,
   "metadata": {},
   "outputs": [],
   "source": [
    "from sklearn.svm import SVC\n",
    "import matplotlib.pyplot as plt\n",
    "from skimage.feature import hog\n",
    "import cv2  \n",
    "import os\n",
    "import pandas as pd\n",
    "from sklearn.model_selection import train_test_split\n",
    "from skimage.transform import resize\n",
    "import skimage.io as io\n",
    "from tqdm import tqdm\n",
    "import numpy as np\n",
    "\n",
    "IMG_PATH = \"../DATA\"\n",
    "Data = pd.DataFrame()\n",
    "UPLOAD_PATH = \"Upload\"\n",
    "folders = os.listdir(IMG_PATH)\n"
   ]
  },
  {
   "cell_type": "code",
   "execution_count": null,
   "metadata": {},
   "outputs": [],
   "source": []
  },
  {
   "cell_type": "code",
   "execution_count": 5,
   "metadata": {},
   "outputs": [
    {
     "name": "stderr",
     "output_type": "stream",
     "text": [
      "  0%|          | 0/36 [00:00<?, ?it/s]c:\\Users\\Rafff\\AppData\\Local\\Programs\\Python\\Python312\\Lib\\site-packages\\PIL\\Image.py:975: UserWarning: Palette images with Transparency expressed in bytes should be converted to RGBA images\n",
      "  warnings.warn(\n",
      "100%|██████████| 36/36 [32:54<00:00, 54.84s/it]"
     ]
    },
    {
     "name": "stdout",
     "output_type": "stream",
     "text": [
      "Image Error :\n",
      " ['Image_56.jpg, bell pepper']\n"
     ]
    },
    {
     "name": "stderr",
     "output_type": "stream",
     "text": [
      "\n"
     ]
    }
   ],
   "source": [
    "train_data = pd.DataFrame()\n",
    "\n",
    "\n",
    "\n",
    "def load_data_images(folder_path):\n",
    "    target = 0\n",
    "    img_error = []\n",
    "    df = pd.DataFrame()\n",
    "    #crée un dictionnaire \n",
    "    img_dict = {}\n",
    "    img_dict[\"Path\"] = []\n",
    "    img_dict[\"Target\"] = []\n",
    "    #for each class\n",
    "    for sub_folder in tqdm(os.listdir(folder_path)):\n",
    "        sub_folder_path = os.path.join(folder_path,sub_folder)\n",
    "        target +=1 \n",
    "        #for each image\n",
    "        for filename in os.listdir(sub_folder_path):\n",
    "            img_path = os.path.join(sub_folder_path, filename)\n",
    "            try :\n",
    "                #lecture de l'image en niveau de gris \n",
    "                img = io.imread(img_path, as_gray=True)\n",
    "                #resize de l'image !Problème d'echelle\n",
    "                resized_img = resize(img, (32, 32),anti_aliasing=True)  \n",
    "                #Application de la fonction HOG pour extraire les features\n",
    "                fd = hog(\n",
    "                    resized_img,\n",
    "                    orientations=8,\n",
    "                    pixels_per_cell=(16, 16),\n",
    "                    cells_per_block=(1, 1)\n",
    "                )\n",
    "                img_dict[\"Path\"].append(img_path)\n",
    "                img_dict[\"Target\"].append(target)\n",
    "                \n",
    "                #Sauvegarde dans le dictionnaire, 1 ligne = 1 image \n",
    "                for i in range(fd.shape[0]) :\n",
    "                    #Si la colonne n'existe pas on la crée avant l'ajout \n",
    "                    colonne = f\"FD{i}\"\n",
    "                    if colonne not in img_dict :\n",
    "                        img_dict[colonne] = [] \n",
    "                    img_dict[colonne].append(fd[i])\n",
    "                \n",
    "                # print(images_list)\n",
    "            except :\n",
    "                img_error.append(f\"{filename}, {sub_folder}\")\n",
    "        #passage du dictionnaire en Dataframe \n",
    "        df = pd.DataFrame(img_dict)\n",
    "        \n",
    "        # data = pd.concat([data,dict_df])\n",
    "        # print(data)\n",
    "    print(\"Image Error :\\n\" ,img_error)\n",
    "    #Passage de Dataframe en CSV \n",
    "    df.to_csv(\"data.csv\",sep=\";\",index=False)\n",
    "        \n",
    "    return df \n",
    "\n",
    "data = load_data_images(IMG_PATH)\n",
    "\n"
   ]
  },
  {
   "cell_type": "code",
   "execution_count": 9,
   "metadata": {},
   "outputs": [
    {
     "name": "stdout",
     "output_type": "stream",
     "text": [
      "(2216, 2218)\n"
     ]
    }
   ],
   "source": [
    "\n",
    "img = io.imread(\"../Data/apple/Image_1.jpg\", as_gray=True)\n",
    "#resize de l'image !Problème d'echelle\n",
    "\n",
    "print(img.shape)\n",
    "resized_img = resize(img, (32, 32),anti_aliasing=True)  \n"
   ]
  },
  {
   "cell_type": "code",
   "execution_count": 12,
   "metadata": {},
   "outputs": [
    {
     "name": "stdout",
     "output_type": "stream",
     "text": [
      "1.0\n"
     ]
    }
   ],
   "source": [
    "Flat_img = resized_img.flatten()\n",
    "print(Flat_img[0])"
   ]
  },
  {
   "cell_type": "code",
   "execution_count": null,
   "metadata": {},
   "outputs": [],
   "source": []
  },
  {
   "cell_type": "code",
   "execution_count": null,
   "metadata": {},
   "outputs": [],
   "source": [
    "img = cv2.imread(\"../Data/apple/Image_1.jpg\")\n",
    "gray = cv2.cvtColor(img, cv2.COLOR_BGR2GRAY)\n",
    "ret, thresh = cv2.threshold(gray, 0, 255, cv2.THRESH_BINARY_INV+cv2.THRESH_OTSU)\n",
    "\n",
    "# Noise removal\n",
    "kernel = np.ones((3,3),np.uint8)\n",
    "opening = cv2.morphologyEx(thresh,cv2.MORPH_OPEN,kernel, iterations = 2)\n",
    "\n",
    "# Sure background area\n",
    "sure_bg = cv2.dilate(opening,kernel,iterations=3)\n",
    "\n",
    "# Finding sure foreground area\n",
    "dist_transform = cv2.distanceTransform(opening,cv2.DIST_L2,5)\n",
    "ret, sure_fg = cv2.threshold(dist_transform,0.7*dist_transform.max(),255,0)\n",
    "\n",
    "# Finding unknown region\n",
    "sure_fg = np.uint8(sure_fg)\n",
    "unknown = cv2.subtract(sure_bg,sure_fg)\n",
    "\n",
    "# Marker labelling\n",
    "ret, markers = cv2.connectedComponents(sure_fg)\n",
    "\n",
    "# Add one to all labels so that sure background is not 0, but 1\n",
    "markers = markers+1\n",
    "\n",
    "# Now, mark the region of unknown with zero\n",
    "markers[unknown==255] = 0\n",
    "\n",
    "markers = cv2.watershed(img,markers)\n",
    "img[markers == -1] = [255,0,0]\n",
    "\n",
    "cv2.imshow('Original Image', img)\n",
    "cv2.waitKey(0)\n",
    "cv2.destroyAllWindows()"
   ]
  }
 ],
 "metadata": {
  "kernelspec": {
   "display_name": "Python 3",
   "language": "python",
   "name": "python3"
  },
  "language_info": {
   "codemirror_mode": {
    "name": "ipython",
    "version": 3
   },
   "file_extension": ".py",
   "mimetype": "text/x-python",
   "name": "python",
   "nbconvert_exporter": "python",
   "pygments_lexer": "ipython3",
   "version": "3.12.0"
  }
 },
 "nbformat": 4,
 "nbformat_minor": 2
}
